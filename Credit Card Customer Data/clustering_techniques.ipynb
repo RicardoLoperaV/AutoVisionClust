{
 "cells": [
  {
   "cell_type": "markdown",
   "id": "8f714486",
   "metadata": {},
   "source": [
    "Link dataset: https://www.kaggle.com/datasets/aryashah2k/credit-card-customer-data/code"
   ]
  },
  {
   "cell_type": "markdown",
   "id": "780380d2",
   "metadata": {},
   "source": [
    "### Significado de variables\n",
    "- **Sl_No:** Número de identificación de serie del cliente: Sirve para indexar valores\n",
    "- **Customer Key** \n",
    "- **Avg_Credit_Limit:** Límite promedio de la tarjeta de crédito para el cliente\n",
    "- **Total_Credit_Cards:**  Total de tarjetas de crédito del cliente\n",
    "- **Total_visits_bank:**  Número total de visitas del cliente al banco\n",
    "- **Total_visits_online:**  Total de visitas en línea del cliente del banco\n",
    "- **Total_calls_made:** Total de llamadas realizadas por el cliente al banco"
   ]
  },
  {
   "cell_type": "markdown",
   "id": "e117a917",
   "metadata": {},
   "source": [
    "En este notebook se aplicarán tres técnicas de clustering sobre el mismo conjunto de datos y, al final, se compararán sus resultados.\n",
    "\n",
    "## Técnicas de clustering\n",
    "\n",
    "### k-means\n",
    "- Particiona los datos en _k_ clusters, minimizando la suma de distancias al cuadrado entre cada punto y el centroide de su cluster.  \n",
    "- Requiere especificar de antemano el número de clusters (_k_).  \n",
    "- Ideal para clusters de forma convexa y similar tamaño.\n",
    "\n",
    "### DBSCAN\n",
    "- Clustering basado en densidad: agrupa puntos con alta densidad local y etiqueta como “ruido” los puntos dispersos.  \n",
    "- No requiere número de clusters previo, pero sí dos parámetros: _eps_ (radio de vecindad) y _min_samples_ (mínimo de puntos).  \n",
    "- Capta clusters de forma arbitraria y es robusto al ruido.\n",
    "\n",
    "### BFR (Bradley-Fayyad-Reina)\n",
    "- Algoritmo _online_ para clustering de grandes volúmenes de datos, basado en modelos gaussianos parciales.  \n",
    "- Resume cada cluster con estadísticas suficientes (_CF vectors_) y procesa datos por _chunks_.  \n",
    "- Muy eficiente en memoria y tiempo para datasets que no caben en memoria completa.\n",
    "\n",
    "## Flujo de trabajo\n",
    "1. **Carga y preprocesamiento**  \n",
    "   - Limpieza, escalado y reducción de dimensionalidad (opcional).  \n",
    "2. **Entrenar k-means**  \n",
    "3. **Entrenar DBSCAN**  \n",
    "4. **Entrenar BFR**  \n",
    "5. **Evaluar y comparar resultados**\n",
    "\n",
    "## Comparación de técnicas\n",
    "Para cuantificar la calidad de agrupamiento y compararlas de forma homogénea, utilizaremos:\n",
    "\n",
    "**Coeficiente de Silhouette**  \n",
    "- Mide la cohesión interna (distancia media al propio cluster) frente a la separación con otros clusters.  \n",
    "- Rango: \\(-1\\) (mal asignado) a \\(+1\\) (cluster bien definido).  \n",
    "- Aplicable a **k-means**, **DBSCAN** (considerando o ignorando ruido) y **BFR**.  \n",
    "- Implementación recomendada:  \n",
    "  ```python\n",
    "  from sklearn.metrics import silhouette_score\n",
    "  score = silhouette_score(X, labels)\n"
   ]
  },
  {
   "cell_type": "code",
   "execution_count": 398,
   "id": "beb9b6a6",
   "metadata": {},
   "outputs": [],
   "source": [
    "# Importamos las librerías necesarias\n",
    "import pandas as pd\n",
    "import numpy as np\n",
    "import matplotlib.pyplot as plt\n",
    "import seaborn as sns\n",
    "from sklearn.metrics import silhouette_samples, silhouette_score\n",
    "from sklearn.cluster import KMeans, DBSCAN"
   ]
  },
  {
   "cell_type": "markdown",
   "id": "d105c3d2",
   "metadata": {},
   "source": [
    "### 1. Carga y procesamiento"
   ]
  },
  {
   "cell_type": "code",
   "execution_count": 399,
   "id": "cc4a5fd5",
   "metadata": {},
   "outputs": [
    {
     "name": "stdout",
     "output_type": "stream",
     "text": [
      "<class 'pandas.core.frame.DataFrame'>\n",
      "RangeIndex: 660 entries, 0 to 659\n",
      "Data columns (total 7 columns):\n",
      " #   Column               Non-Null Count  Dtype\n",
      "---  ------               --------------  -----\n",
      " 0   Sl_No                660 non-null    int64\n",
      " 1   Customer Key         660 non-null    int64\n",
      " 2   Avg_Credit_Limit     660 non-null    int64\n",
      " 3   Total_Credit_Cards   660 non-null    int64\n",
      " 4   Total_visits_bank    660 non-null    int64\n",
      " 5   Total_visits_online  660 non-null    int64\n",
      " 6   Total_calls_made     660 non-null    int64\n",
      "dtypes: int64(7)\n",
      "memory usage: 36.2 KB\n"
     ]
    }
   ],
   "source": [
    "df = pd.read_csv('Credit Card Customer Data.csv')\n",
    "df.info()"
   ]
  },
  {
   "cell_type": "code",
   "execution_count": 400,
   "id": "f6607817",
   "metadata": {},
   "outputs": [
    {
     "data": {
      "text/html": [
       "<div>\n",
       "<style scoped>\n",
       "    .dataframe tbody tr th:only-of-type {\n",
       "        vertical-align: middle;\n",
       "    }\n",
       "\n",
       "    .dataframe tbody tr th {\n",
       "        vertical-align: top;\n",
       "    }\n",
       "\n",
       "    .dataframe thead th {\n",
       "        text-align: right;\n",
       "    }\n",
       "</style>\n",
       "<table border=\"1\" class=\"dataframe\">\n",
       "  <thead>\n",
       "    <tr style=\"text-align: right;\">\n",
       "      <th></th>\n",
       "      <th>Avg_Credit_Limit</th>\n",
       "      <th>Total_Credit_Cards</th>\n",
       "      <th>Total_visits_bank</th>\n",
       "      <th>Total_visits_online</th>\n",
       "      <th>Total_calls_made</th>\n",
       "    </tr>\n",
       "  </thead>\n",
       "  <tbody>\n",
       "    <tr>\n",
       "      <th>0</th>\n",
       "      <td>100000</td>\n",
       "      <td>2</td>\n",
       "      <td>1</td>\n",
       "      <td>1</td>\n",
       "      <td>0</td>\n",
       "    </tr>\n",
       "    <tr>\n",
       "      <th>1</th>\n",
       "      <td>50000</td>\n",
       "      <td>3</td>\n",
       "      <td>0</td>\n",
       "      <td>10</td>\n",
       "      <td>9</td>\n",
       "    </tr>\n",
       "    <tr>\n",
       "      <th>2</th>\n",
       "      <td>50000</td>\n",
       "      <td>7</td>\n",
       "      <td>1</td>\n",
       "      <td>3</td>\n",
       "      <td>4</td>\n",
       "    </tr>\n",
       "    <tr>\n",
       "      <th>3</th>\n",
       "      <td>30000</td>\n",
       "      <td>5</td>\n",
       "      <td>1</td>\n",
       "      <td>1</td>\n",
       "      <td>4</td>\n",
       "    </tr>\n",
       "    <tr>\n",
       "      <th>4</th>\n",
       "      <td>100000</td>\n",
       "      <td>6</td>\n",
       "      <td>0</td>\n",
       "      <td>12</td>\n",
       "      <td>3</td>\n",
       "    </tr>\n",
       "  </tbody>\n",
       "</table>\n",
       "</div>"
      ],
      "text/plain": [
       "   Avg_Credit_Limit  Total_Credit_Cards  Total_visits_bank  \\\n",
       "0            100000                   2                  1   \n",
       "1             50000                   3                  0   \n",
       "2             50000                   7                  1   \n",
       "3             30000                   5                  1   \n",
       "4            100000                   6                  0   \n",
       "\n",
       "   Total_visits_online  Total_calls_made  \n",
       "0                    1                 0  \n",
       "1                   10                 9  \n",
       "2                    3                 4  \n",
       "3                    1                 4  \n",
       "4                   12                 3  "
      ]
     },
     "execution_count": 400,
     "metadata": {},
     "output_type": "execute_result"
    }
   ],
   "source": [
    "# Quitamos Custumer key del dataframe\n",
    "df.drop(columns=['Customer Key'], inplace=True)\n",
    "# Quitamos SI_No del dataframe\n",
    "df.drop(columns=['Sl_No'], inplace=True)\n",
    "\n",
    "df.head()"
   ]
  },
  {
   "cell_type": "code",
   "execution_count": 401,
   "id": "5ae2954c",
   "metadata": {},
   "outputs": [
    {
     "name": "stdout",
     "output_type": "stream",
     "text": [
      "Avg_Credit_Limit       0\n",
      "Total_Credit_Cards     0\n",
      "Total_visits_bank      0\n",
      "Total_visits_online    0\n",
      "Total_calls_made       0\n",
      "dtype: int64\n"
     ]
    }
   ],
   "source": [
    "# Veamos cuantos son los datos nulos\n",
    "print(df.isnull().sum())"
   ]
  },
  {
   "cell_type": "code",
   "execution_count": 402,
   "id": "df4aa1d9",
   "metadata": {},
   "outputs": [
    {
     "data": {
      "text/html": [
       "<div>\n",
       "<style scoped>\n",
       "    .dataframe tbody tr th:only-of-type {\n",
       "        vertical-align: middle;\n",
       "    }\n",
       "\n",
       "    .dataframe tbody tr th {\n",
       "        vertical-align: top;\n",
       "    }\n",
       "\n",
       "    .dataframe thead th {\n",
       "        text-align: right;\n",
       "    }\n",
       "</style>\n",
       "<table border=\"1\" class=\"dataframe\">\n",
       "  <thead>\n",
       "    <tr style=\"text-align: right;\">\n",
       "      <th></th>\n",
       "      <th>count</th>\n",
       "      <th>mean</th>\n",
       "      <th>std</th>\n",
       "      <th>min</th>\n",
       "      <th>25%</th>\n",
       "      <th>50%</th>\n",
       "      <th>75%</th>\n",
       "      <th>max</th>\n",
       "    </tr>\n",
       "  </thead>\n",
       "  <tbody>\n",
       "    <tr>\n",
       "      <th>Avg_Credit_Limit</th>\n",
       "      <td>660.0</td>\n",
       "      <td>34574.242424</td>\n",
       "      <td>37625.487804</td>\n",
       "      <td>3000.0</td>\n",
       "      <td>10000.0</td>\n",
       "      <td>18000.0</td>\n",
       "      <td>48000.0</td>\n",
       "      <td>200000.0</td>\n",
       "    </tr>\n",
       "    <tr>\n",
       "      <th>Total_Credit_Cards</th>\n",
       "      <td>660.0</td>\n",
       "      <td>4.706061</td>\n",
       "      <td>2.167835</td>\n",
       "      <td>1.0</td>\n",
       "      <td>3.0</td>\n",
       "      <td>5.0</td>\n",
       "      <td>6.0</td>\n",
       "      <td>10.0</td>\n",
       "    </tr>\n",
       "    <tr>\n",
       "      <th>Total_visits_bank</th>\n",
       "      <td>660.0</td>\n",
       "      <td>2.403030</td>\n",
       "      <td>1.631813</td>\n",
       "      <td>0.0</td>\n",
       "      <td>1.0</td>\n",
       "      <td>2.0</td>\n",
       "      <td>4.0</td>\n",
       "      <td>5.0</td>\n",
       "    </tr>\n",
       "    <tr>\n",
       "      <th>Total_visits_online</th>\n",
       "      <td>660.0</td>\n",
       "      <td>2.606061</td>\n",
       "      <td>2.935724</td>\n",
       "      <td>0.0</td>\n",
       "      <td>1.0</td>\n",
       "      <td>2.0</td>\n",
       "      <td>4.0</td>\n",
       "      <td>15.0</td>\n",
       "    </tr>\n",
       "    <tr>\n",
       "      <th>Total_calls_made</th>\n",
       "      <td>660.0</td>\n",
       "      <td>3.583333</td>\n",
       "      <td>2.865317</td>\n",
       "      <td>0.0</td>\n",
       "      <td>1.0</td>\n",
       "      <td>3.0</td>\n",
       "      <td>5.0</td>\n",
       "      <td>10.0</td>\n",
       "    </tr>\n",
       "  </tbody>\n",
       "</table>\n",
       "</div>"
      ],
      "text/plain": [
       "                     count          mean           std     min      25%  \\\n",
       "Avg_Credit_Limit     660.0  34574.242424  37625.487804  3000.0  10000.0   \n",
       "Total_Credit_Cards   660.0      4.706061      2.167835     1.0      3.0   \n",
       "Total_visits_bank    660.0      2.403030      1.631813     0.0      1.0   \n",
       "Total_visits_online  660.0      2.606061      2.935724     0.0      1.0   \n",
       "Total_calls_made     660.0      3.583333      2.865317     0.0      1.0   \n",
       "\n",
       "                         50%      75%       max  \n",
       "Avg_Credit_Limit     18000.0  48000.0  200000.0  \n",
       "Total_Credit_Cards       5.0      6.0      10.0  \n",
       "Total_visits_bank        2.0      4.0       5.0  \n",
       "Total_visits_online      2.0      4.0      15.0  \n",
       "Total_calls_made         3.0      5.0      10.0  "
      ]
     },
     "execution_count": 402,
     "metadata": {},
     "output_type": "execute_result"
    }
   ],
   "source": [
    "df.describe().T"
   ]
  },
  {
   "cell_type": "markdown",
   "id": "54a1f31d",
   "metadata": {},
   "source": [
    "## Análisis de la distribución de **Avg_Credit_Limit**\n",
    "\n",
    "- **Mediana (18 000)**  \n",
    "  La “cintura” del violin y la transición de color en la tira de calor confirman que la mitad de los clientes tiene un límite de crédito ≤ 18 000.\n",
    "\n",
    "- **Rango intercuartílico (10 000 – 48 000)**  \n",
    "  El grueso de la densidad (la parte más ancha del violin) está entre 10 000 y 48 000, mostrando dónde se concentra el 50 % central de los datos.\n",
    "\n",
    "- **Asimetría positiva**  \n",
    "  La nube se estrecha rápidamente hacia valores altos y la cola derecha se alarga hasta 200 000, indicando que unos pocos clientes disponen de límites muy altos.\n",
    "\n",
    "- **Valores atípicos**  \n",
    "  Se aprecian puntos aislados por encima de los 100 000, que reflejan unos cuantos casos extremos.\n",
    "\n",
    "- **Variabilidad elevada (std ≈ 37 625)**  \n",
    "  La dispersión es amplia, lo que sugiere heterogeneidad en los límites otorgados a los clientes.\n",
    "\n",
    "### Ver el grafico a continuación"
   ]
  },
  {
   "cell_type": "code",
   "execution_count": 403,
   "id": "4ea6b18a",
   "metadata": {},
   "outputs": [
    {
     "data": {
      "image/png": "[encoded data removed]",
      "text/plain": [
       "<Figure size 600x500 with 2 Axes>"
      ]
     },
     "metadata": {},
     "output_type": "display_data"
    }
   ],
   "source": [
    "from matplotlib.colors import Normalize\n",
    "from matplotlib.cm import ScalarMappable\n",
    "\n",
    "col = 'Avg_Credit_Limit'\n",
    "data = df[[col]]\n",
    "\n",
    "plt.figure(figsize=(6, 5))\n",
    "sns.set_style(\"whitegrid\")\n",
    "palette = sns.color_palette(\"Set2\", 1)\n",
    "norm = Normalize(vmin=data[col].min(), vmax=data[col].max())\n",
    "ax = plt.gca()\n",
    "\n",
    "\n",
    "x = np.zeros_like(data[col], dtype=float)\n",
    "sns.violinplot(y=data[col], x=x, inner=None,\n",
    "               color=palette[0], width=.6, linewidth=0, alpha=.4)\n",
    "sns.stripplot(y=data[col], x=x, size=3,\n",
    "              color=palette[0], jitter=.15, alpha=.8)\n",
    "\n",
    "\n",
    "stats = data[col].describe()\n",
    "q = stats[['min', '25%', '50%', '75%', 'max']].values\n",
    "y0, y1 = q[:-1], q[1:]\n",
    "for y_start, y_end in zip(y0, y1):\n",
    "    ax.plot([-0.25, -0.25], [y_start, y_end], lw=6,\n",
    "            color=plt.cm.viridis(norm((y_start + y_end) / 2)))\n",
    "\n",
    "\n",
    "ax.set_xticks([0])\n",
    "ax.set_xticklabels([col.replace('_', ' ')], rotation=30, ha='right')\n",
    "ax.set_ylabel(\"Valor\")\n",
    "ax.set_title(\"Límite de Crédito Promedio por Cliente\")\n",
    "\n",
    "\n",
    "sm = ScalarMappable(cmap='viridis', norm=norm)\n",
    "sm.set_array([])\n",
    "cbar = plt.colorbar(sm, ax=ax, pad=.02)\n",
    "cbar.set_label(\"Valor (mismo rango que el eje Y)\")\n",
    "\n",
    "plt.tight_layout()\n",
    "plt.show()"
   ]
  },
  {
   "cell_type": "markdown",
   "id": "eb522dff",
   "metadata": {},
   "source": [
    "## Insights del Clustermap de Correlaciones\n",
    "\n",
    "- **Cluster 1: Capacidad crediticia**  \n",
    "  - `Avg_Credit_Limit` y `Total_Credit_Cards` se agrupan muy pronto (r≈0.61), indicando que los clientes con más tarjetas también suelen tener límites promedios mayores.\n",
    "\n",
    "- **Cluster 2: Banca digital**  \n",
    "  - `Total_visits_online` se une enseguida al grupo de crédito (r≈0.55 con Avg_Credit_Limit), lo que sugiere que los clientes con mejor perfil crediticio utilizan más la banca en línea.\n",
    "\n",
    "- **Cluster 3: Canal presencial**  \n",
    "  - `Total_visits_bank` forma su propio remanso, con correlaciones bajas o negativas frente a las métricas de crédito (r≈–0.10) y frente a la banca online (r≈–0.55), señalando un comportamiento de “todo-o-nada” entre canales.\n",
    "\n",
    "- **Cluster 4: Llamadas al call center**  \n",
    "  - `Total_calls_made` queda aislado en la cúspide: presenta correlaciones negativas fuertes con `Total_Credit_Cards` (r≈–0.65) y moderadas con visitas a sucursal (r≈–0.51), mostrando que más llamadas no implica ni más crédito ni más visitas físicas.\n",
    "\n",
    " **Conclusión**  \n",
    " Aparecen dos grandes familias:  \n",
    " 1. **Crédito + Digital** (alto crédito ↔ uso intenso de banca online)  \n",
    " 2. **Atención tradicional** (visitas y llamadas) con dinámicas casi opuestas al cluster de crédito.  \n"
   ]
  },
  {
   "cell_type": "code",
   "execution_count": 404,
   "id": "9b707ebb",
   "metadata": {},
   "outputs": [
    {
     "data": {
      "image/png": "[encoded data removed]",
      "text/plain": [
       "<Figure size 800x800 with 4 Axes>"
      ]
     },
     "metadata": {},
     "output_type": "display_data"
    }
   ],
   "source": [
    "corr = df.corr()\n",
    "\n",
    "# Dibuja el clustermap\n",
    "sns.set(font_scale=1)\n",
    "g = sns.clustermap(\n",
    "    corr,\n",
    "    cmap=\"vlag\",\n",
    "    linewidths=.75,\n",
    "    figsize=(8, 8),\n",
    "    annot=True,\n",
    "    fmt=\".2f\",\n",
    "    cbar_pos=(0.02, .8, .05, .18),\n",
    "    dendrogram_ratio=(.2, .1),\n",
    "    yticklabels=True,\n",
    "    xticklabels=True\n",
    ")\n",
    "g.ax_heatmap.set_title(\"Clustermap de Correlación\", pad=20)\n",
    "plt.show()"
   ]
  },
  {
   "cell_type": "code",
   "execution_count": 405,
   "id": "53892048",
   "metadata": {},
   "outputs": [
    {
     "data": {
      "text/html": [
       "<div>\n",
       "<style scoped>\n",
       "    .dataframe tbody tr th:only-of-type {\n",
       "        vertical-align: middle;\n",
       "    }\n",
       "\n",
       "    .dataframe tbody tr th {\n",
       "        vertical-align: top;\n",
       "    }\n",
       "\n",
       "    .dataframe thead th {\n",
       "        text-align: right;\n",
       "    }\n",
       "</style>\n",
       "<table border=\"1\" class=\"dataframe\">\n",
       "  <thead>\n",
       "    <tr style=\"text-align: right;\">\n",
       "      <th></th>\n",
       "      <th>Avg_Credit_Limit</th>\n",
       "      <th>Total_Credit_Cards</th>\n",
       "      <th>Total_visits_bank</th>\n",
       "      <th>Total_visits_online</th>\n",
       "      <th>Total_calls_made</th>\n",
       "      <th>Recency</th>\n",
       "      <th>Credit_Usage</th>\n",
       "    </tr>\n",
       "  </thead>\n",
       "  <tbody>\n",
       "    <tr>\n",
       "      <th>0</th>\n",
       "      <td>100000</td>\n",
       "      <td>2</td>\n",
       "      <td>1</td>\n",
       "      <td>1</td>\n",
       "      <td>0</td>\n",
       "      <td>2</td>\n",
       "      <td>33333.333333</td>\n",
       "    </tr>\n",
       "    <tr>\n",
       "      <th>1</th>\n",
       "      <td>50000</td>\n",
       "      <td>3</td>\n",
       "      <td>0</td>\n",
       "      <td>10</td>\n",
       "      <td>9</td>\n",
       "      <td>19</td>\n",
       "      <td>12500.000000</td>\n",
       "    </tr>\n",
       "    <tr>\n",
       "      <th>2</th>\n",
       "      <td>50000</td>\n",
       "      <td>7</td>\n",
       "      <td>1</td>\n",
       "      <td>3</td>\n",
       "      <td>4</td>\n",
       "      <td>8</td>\n",
       "      <td>6250.000000</td>\n",
       "    </tr>\n",
       "    <tr>\n",
       "      <th>3</th>\n",
       "      <td>30000</td>\n",
       "      <td>5</td>\n",
       "      <td>1</td>\n",
       "      <td>1</td>\n",
       "      <td>4</td>\n",
       "      <td>6</td>\n",
       "      <td>5000.000000</td>\n",
       "    </tr>\n",
       "    <tr>\n",
       "      <th>4</th>\n",
       "      <td>100000</td>\n",
       "      <td>6</td>\n",
       "      <td>0</td>\n",
       "      <td>12</td>\n",
       "      <td>3</td>\n",
       "      <td>15</td>\n",
       "      <td>14285.714286</td>\n",
       "    </tr>\n",
       "  </tbody>\n",
       "</table>\n",
       "</div>"
      ],
      "text/plain": [
       "   Avg_Credit_Limit  Total_Credit_Cards  Total_visits_bank  \\\n",
       "0            100000                   2                  1   \n",
       "1             50000                   3                  0   \n",
       "2             50000                   7                  1   \n",
       "3             30000                   5                  1   \n",
       "4            100000                   6                  0   \n",
       "\n",
       "   Total_visits_online  Total_calls_made  Recency  Credit_Usage  \n",
       "0                    1                 0        2  33333.333333  \n",
       "1                   10                 9       19  12500.000000  \n",
       "2                    3                 4        8   6250.000000  \n",
       "3                    1                 4        6   5000.000000  \n",
       "4                   12                 3       15  14285.714286  "
      ]
     },
     "execution_count": 405,
     "metadata": {},
     "output_type": "execute_result"
    }
   ],
   "source": [
    "# Creamos una nueva columna que se denominara 'Recency' \n",
    "df['Recency'] = df['Total_visits_bank'] + df['Total_visits_online'] + df['Total_calls_made']\n",
    "# Esta variable nos indica la cantidad de interacciones que ha tenido el cliente con el banco en los últimos meses.\n",
    "# Creamos una nueva columna que se denominara 'Credit_Usage'\n",
    "df['Credit_Usage'] = df['Avg_Credit_Limit'] / (df['Total_Credit_Cards'] + 1)\n",
    "# Esta variable nos indica el uso promedio del crédito por tarjeta.\n",
    "\n",
    "df.head()"
   ]
  },
  {
   "cell_type": "code",
   "execution_count": 406,
   "id": "b77dfb0c",
   "metadata": {},
   "outputs": [
    {
     "data": {
      "text/plain": [
       "(660, 4)"
      ]
     },
     "execution_count": 406,
     "metadata": {},
     "output_type": "execute_result"
    }
   ],
   "source": [
    "# Ahora escalamos las variables para que tengan la misma importancia\n",
    "from sklearn.preprocessing import MinMaxScaler\n",
    "# hacemos una copia del dataframe para no modificar el original\n",
    "df_scaled = df[['Avg_Credit_Limit','Total_Credit_Cards','Recency', 'Credit_Usage']]\n",
    "scaler = MinMaxScaler()\n",
    "df_scaled = scaler.fit_transform(df_scaled)\n",
    "df_scaled.shape"
   ]
  },
  {
   "cell_type": "markdown",
   "id": "e949c5d5",
   "metadata": {},
   "source": [
    "## 2. Entrenar K-means"
   ]
  },
  {
   "cell_type": "code",
   "execution_count": 407,
   "id": "a4e0dc88",
   "metadata": {},
   "outputs": [
    {
     "data": {
      "text/plain": [
       "kmeans_cluster\n",
       "0    211\n",
       "2    208\n",
       "1    192\n",
       "3     49\n",
       "Name: count, dtype: int64"
      ]
     },
     "execution_count": 407,
     "metadata": {},
     "output_type": "execute_result"
    }
   ],
   "source": [
    "kmeans =KMeans(n_clusters=4, max_iter=300, init='k-means++', random_state=42)\n",
    "y_kmeans= kmeans.fit_predict(df_scaled)\n",
    "\n",
    "df['kmeans_cluster']= kmeans.labels_\n",
    "df['kmeans_cluster'].value_counts()"
   ]
  },
  {
   "cell_type": "markdown",
   "id": "6bf1a75c",
   "metadata": {},
   "source": [
    "### Interpretación métrica: `kmeans.inertia_`\n",
    "\n",
    "- **Baja inercia ⇒ clusters compactos**  \n",
    "  Los puntos están, en promedio, más cerca de sus centroides.\n",
    "\n",
    "- **Alta inercia ⇒ clusters dispersos**  \n",
    "  Mayor variabilidad interna dentro de cada cluster.\n",
    "\n",
    "- Al **aumentar** \\(k\\), la inercia siempre **disminuye** (cada punto puede quedar más cerca de algún centroide).\n"
   ]
  },
  {
   "cell_type": "code",
   "execution_count": 408,
   "id": "0ed7fcfe",
   "metadata": {},
   "outputs": [
    {
     "data": {
      "text/plain": [
       "29.90601794683751"
      ]
     },
     "execution_count": 408,
     "metadata": {},
     "output_type": "execute_result"
    }
   ],
   "source": [
    "kmeans.inertia_"
   ]
  },
  {
   "cell_type": "markdown",
   "id": "a1736cc3",
   "metadata": {},
   "source": [
    "### Coeficiente de Silhouette para K-means"
   ]
  },
  {
   "cell_type": "code",
   "execution_count": 409,
   "id": "d3aa6be2",
   "metadata": {},
   "outputs": [
    {
     "data": {
      "text/plain": [
       "np.float64(0.32858062635032953)"
      ]
     },
     "execution_count": 409,
     "metadata": {},
     "output_type": "execute_result"
    }
   ],
   "source": [
    "silhouette_score(df_scaled,kmeans.labels_)\n"
   ]
  },
  {
   "cell_type": "markdown",
   "id": "c2ce246d",
   "metadata": {},
   "source": [
    "### Método del Codo (Elbow Method)\n",
    "\n",
    "El Método del Codo es una técnica visual para seleccionar el número óptimo de clusters \\(k\\) en k-means. La idea central es:\n",
    "\n",
    "1. **Calcular la inercia** (WCSS – Within-Cluster Sum of Squares) para distintos valores de \\(k\\).  \n",
    "2. **Graficar** la inercia en función de \\(k\\).  \n",
    "3. **Detectar el “codo”** en la curva: el punto donde la reducción de la inercia al aumentar \\(k\\) deja de ser significativa.\n",
    "\n",
    "- A la izquierda del codo, cada cluster adicional aporta gran mejora (disminuye mucho la inercia).  \n",
    "- A la derecha del codo, añadir más clusters aporta poca ganancia (la inercia apenas baja).  \n",
    "- El valor de \\(k\\) en el codo ofrece un buen compromiso entre **compactación** (baja inercia) y **simplicidad** (pocos clusters).\n"
   ]
  },
  {
   "cell_type": "code",
   "execution_count": 410,
   "id": "8098cfcb",
   "metadata": {},
   "outputs": [
    {
     "data": {
      "text/plain": [
       "<Axes: >"
      ]
     },
     "execution_count": 410,
     "metadata": {},
     "output_type": "execute_result"
    },
    {
     "data": {
      "image/png": "[encoded data removed]",
      "text/plain": [
       "<Figure size 640x480 with 1 Axes>"
      ]
     },
     "metadata": {},
     "output_type": "display_data"
    }
   ],
   "source": [
    "# Diccionario para almacenar la inercia (WCSS) por cada k\n",
    "wcss = {}\n",
    "\n",
    "# Probar valores de k desde 1 hasta 19\n",
    "for k in range(1, 20):\n",
    "    # Configurar y ajustar el modelo KMeans\n",
    "    kmeans = KMeans(\n",
    "        n_clusters=k,        # número de clusters\n",
    "        max_iter=300,        # iteraciones máximas\n",
    "        init='k-means++',    # inicialización de centroides\n",
    "        random_state=42      # semilla para reproducibilidad\n",
    "    )\n",
    "    kmeans.fit(df_scaled)               # ajustar el modelo a los datos\n",
    "    wcss[k] = kmeans.inertia_   # guardar la inercia (WCSS) en el diccionario\n",
    "\n",
    "# Graficar inercia vs. número de clusters usando seaborn\n",
    "sns.pointplot(\n",
    "    x=list(wcss.keys()),    # lista de valores de k\n",
    "    y=list(wcss.values()),  # lista de inercia correspondiente\n",
    "    marker='o'\n",
    ")"
   ]
  },
  {
   "cell_type": "markdown",
   "id": "8f38a6a8",
   "metadata": {},
   "source": [
    "Al observar la curva de **inercia (WCSS) vs. número de clusters (k)**:\n",
    "\n",
    "- **Descenso pronunciado inicial**  \n",
    "  - De \\(k=1\\) a \\(k=2\\): la inercia cae de ~250 a ~185.  \n",
    "  - De \\(k=2\\) a \\(k=3\\): nuevo gran descenso, de ~185 a ~85.  \n",
    "  Esto indica que pasar de 1 a 3 clusters aporta enormes ganancias en compactar los datos.\n",
    "\n",
    "- **Zona de “codo” (punto de inflexión)**  \n",
    "  - Tras \\(k=3\\), la pendiente se suaviza:  \n",
    "    - \\(k=4\\) ≈ 65,  \n",
    "    - \\(k=5\\) ≈ 60,  \n",
    "    - más allá de \\(k=5\\), cada cluster adicional reduce la inercia muy levemente.  \n",
    "  - El **codo** se sitúa alrededor de **\\(k=3\\) o \\(k=4\\)**, donde la mejora empieza a estabilizarse.\n",
    "\n",
    "- **Selección óptima de \\(k\\)**  \n",
    "  - Elegir **\\(k=3\\)** o **\\(k=4\\)** suele ser ideal:  \n",
    "    - Captura la mayor parte de la variabilidad interna.  \n",
    "    - Evita un número excesivo de clusters que compliquen la interpretación.\n"
   ]
  },
  {
   "cell_type": "markdown",
   "id": "8684af2f",
   "metadata": {},
   "source": [
    "### 3. Entrenar DBscan "
   ]
  },
  {
   "cell_type": "markdown",
   "id": "27d08eee",
   "metadata": {},
   "source": [
    "### Búsqueda de parámetros óptimos para DBSCAN\n",
    "\n",
    "#### Objetivo\n",
    "Realizar una exploración exhaustiva de combinaciones de **eps** (radio de vecindad) y **min_samples** (mínimo de puntos) para el algoritmo DBSCAN, con el fin de maximizar la puntuación de Silhouette sobre el dataset escalado.\n",
    "\n",
    "#### Parámetros evaluados\n",
    "- **eps:** lista de radios de vecindad a probar.  \n",
    "- **min_samples:** lista de valores mínimos de puntos para formar un clúster.\n",
    "\n",
    "#### Variables de control\n",
    "- **best_score:** almacena la mejor puntuación de Silhouette encontrada.  \n",
    "- **best_eps / best_m:** guardan los valores de eps y min_samples que producen esa mejor puntuación.\n",
    "\n",
    "#### Flujo de trabajo\n",
    "1. **Recorrer todas las combinaciones** de eps y min_samples mediante bucles anidados.  \n",
    "2. **Ajustar DBSCAN** con la combinación actual y obtener las etiquetas de cluster.  \n",
    "3. **Contar clusters válidos**, ignorando el ruido (etiqueta –1), y descartar configuraciones que produzcan un único cluster o ninguno.  \n",
    "4. **Calcular la puntuación de Silhouette** para medir la cohesión interna y la separación entre clusters.  \n",
    "5. **Actualizar los parámetros óptimos** si la puntuación actual supera a la mejor registrada, e imprimir inmediatamente la nueva mejor configuración.\n"
   ]
  },
  {
   "cell_type": "code",
   "execution_count": 411,
   "id": "385ad14f",
   "metadata": {},
   "outputs": [
    {
     "name": "stdout",
     "output_type": "stream",
     "text": [
      "Mejor puntuación Silhouette: 0.5602\n",
      "eps óptimo = 0.3\n",
      "min_samples óptimo = 100\n"
     ]
    }
   ],
   "source": [
    "import itertools\n",
    "# Definición de parámetros a evaluar\n",
    "radios_eps    = [0.1, 0.01, 0.2, 0.3, 0.5, 1, 0.08, 0.05, 0.02, 0.03, 0.04]\n",
    "min_muestras  = [2, 5, 10, 15, 20, 25, 30, 35, 50, 100]\n",
    "\n",
    "#  Variables para llevar el mejor resultado\n",
    "mejor_puntuacion = -1\n",
    "mejor_eps        = None\n",
    "mejor_min        = None\n",
    "\n",
    "# Exploración de todas las combinaciones\n",
    "for eps_val, min_val in itertools.product(radios_eps, min_muestras):\n",
    "    dbscan    = DBSCAN(eps=eps_val, min_samples=min_val)\n",
    "    etiquetas = dbscan.fit_predict(df_scaled)\n",
    "\n",
    "    # Verificar si hay al menos un cluster\n",
    "    if len(set(etiquetas)) <= 1:\n",
    "        continue  # Si no hay clusters, saltar a la siguiente combinación\n",
    "\n",
    "    # Calcular la puntuación de Silhouette\n",
    "    puntuacion = silhouette_score(df_scaled, dbscan.labels_)\n",
    "    \n",
    "    # Actualizar mejor configuración\n",
    "    if puntuacion > mejor_puntuacion:\n",
    "        mejor_puntuacion = puntuacion\n",
    "        mejor_eps        = eps_val\n",
    "        mejor_min        = min_val\n",
    "\n",
    "# Mostrar la mejor combinación encontrada\n",
    "print(f\"Mejor puntuación Silhouette: {mejor_puntuacion:.4f}\")\n",
    "print(f\"eps óptimo = {mejor_eps}\")\n",
    "print(f\"min_samples óptimo = {mejor_min}\")"
   ]
  },
  {
   "cell_type": "code",
   "execution_count": null,
   "id": "8c4d4c49",
   "metadata": {},
   "outputs": [],
   "source": [
    "dbscan = DBSCAN(eps=0.3, min_samples=100)\n",
    "y_db= dbscan.fit_predict(df_scaled)\n"
   ]
  },
  {
   "cell_type": "markdown",
   "id": "ff491465",
   "metadata": {},
   "source": [
    "### Coeficiente de Silhouette para DBscan"
   ]
  },
  {
   "cell_type": "code",
   "execution_count": 413,
   "id": "a178a267",
   "metadata": {},
   "outputs": [
    {
     "data": {
      "text/plain": [
       "np.float64(-0.4440628120388165)"
      ]
     },
     "execution_count": 413,
     "metadata": {},
     "output_type": "execute_result"
    }
   ],
   "source": [
    "silhouette_score(df_scaled,dbscan.labels_)"
   ]
  },
  {
   "cell_type": "code",
   "execution_count": 414,
   "id": "2174f1db",
   "metadata": {},
   "outputs": [
    {
     "data": {
      "text/plain": [
       "dblabel\n",
       "-1    627\n",
       " 1      6\n",
       " 2      6\n",
       " 3      6\n",
       " 0      5\n",
       " 4      5\n",
       " 5      5\n",
       "Name: count, dtype: int64"
      ]
     },
     "execution_count": 414,
     "metadata": {},
     "output_type": "execute_result"
    }
   ],
   "source": [
    "# Veamos cuantas etiquetas nos ha dado DBSCAN\n",
    "df['dblabel']= dbscan.labels_\n",
    "df['dblabel'].value_counts()"
   ]
  }
 ],
 "metadata": {
  "kernelspec": {
   "display_name": "Python 3",
   "language": "python",
   "name": "python3"
  },
  "language_info": {
   "codemirror_mode": {
    "name": "ipython",
    "version": 3
   },
   "file_extension": ".py",
   "mimetype": "text/x-python",
   "name": "python",
   "nbconvert_exporter": "python",
   "pygments_lexer": "ipython3",
   "version": "3.13.1"
  }
 },
 "nbformat": 4,
 "nbformat_minor": 5
}
